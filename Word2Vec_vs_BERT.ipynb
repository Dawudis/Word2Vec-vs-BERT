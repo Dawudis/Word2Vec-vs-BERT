{
  "nbformat": 4,
  "nbformat_minor": 0,
  "metadata": {
    "colab": {
      "name": "Word2Vec and BERT Experiment",
      "provenance": [],
      "authorship_tag": "ABX9TyOWq2wRt2twMoC8EwrMXQF3",
      "include_colab_link": true
    },
    "kernelspec": {
      "name": "python3",
      "display_name": "Python 3"
    },
    "language_info": {
      "name": "python"
    }
  },
  "cells": [
    {
      "cell_type": "markdown",
      "metadata": {
        "id": "view-in-github",
        "colab_type": "text"
      },
      "source": [
        "<a href=\"https://colab.research.google.com/github/Dawudis/Word2Vec-vs-BERT/blob/main/Word2Vec_vs_BERT.ipynb\" target=\"_parent\"><img src=\"https://colab.research.google.com/assets/colab-badge.svg\" alt=\"Open In Colab\"/></a>"
      ]
    },
    {
      "cell_type": "markdown",
      "metadata": {
        "id": "qphQjY-mHo8t"
      },
      "source": [
        "# **Word2Vec (GloVe)**"
      ]
    },
    {
      "cell_type": "markdown",
      "metadata": {
        "id": "rwpWy21m7zCE"
      },
      "source": [
        "Install Dependencies"
      ]
    },
    {
      "cell_type": "code",
      "metadata": {
        "id": "1xU5f2MnCKmC"
      },
      "source": [
        "!pip install flair\n",
        "from flair.embeddings import WordEmbeddings\n",
        "from flair.embeddings import TransformerWordEmbeddings\n",
        "from flair.data import Sentence"
      ],
      "execution_count": null,
      "outputs": []
    },
    {
      "cell_type": "code",
      "metadata": {
        "id": "c4vcgTYCIOnE"
      },
      "source": [
        "import numpy as np"
      ],
      "execution_count": 3,
      "outputs": []
    },
    {
      "cell_type": "code",
      "metadata": {
        "id": "NN0HHT6DIQyG"
      },
      "source": [
        "from scipy.spatial import distance"
      ],
      "execution_count": 4,
      "outputs": []
    },
    {
      "cell_type": "markdown",
      "metadata": {
        "id": "KvhAUSEs8JdP"
      },
      "source": [
        "Configure Word Embeddings + Input Sentences"
      ]
    },
    {
      "cell_type": "code",
      "metadata": {
        "id": "zwxpo85xCOtu"
      },
      "source": [
        "glove_embedding = WordEmbeddings('glove')"
      ],
      "execution_count": null,
      "outputs": []
    },
    {
      "cell_type": "code",
      "metadata": {
        "id": "FPfLK0T2GAbH"
      },
      "source": [
        "sentence_1 = Sentence('I need to clean my windows.')\n",
        "glove_embedding.embed(sentence_1)\n",
        "\n",
        "sentence_2 = Sentence('I need to update my Windows.')\n",
        "glove_embedding.embed(sentence_2)"
      ],
      "execution_count": null,
      "outputs": []
    },
    {
      "cell_type": "markdown",
      "metadata": {
        "id": "QGvYR378KysU"
      },
      "source": [
        "Euclidean Distance"
      ]
    },
    {
      "cell_type": "code",
      "metadata": {
        "colab": {
          "base_uri": "https://localhost:8080/"
        },
        "id": "knYC6_PKud5S",
        "outputId": "11e94085-6e39-430a-be10-b4fdaf2598a4"
      },
      "source": [
        "euclidean_distance = distance.euclidean(np.array(sentence_1[5].embedding), \n",
        "                               np.array(sentence_2[5].embedding))\n",
        "## the number after the sentence is which word you want to choose to find the distance\n",
        "euclidean_distance"
      ],
      "execution_count": 23,
      "outputs": [
        {
          "output_type": "execute_result",
          "data": {
            "text/plain": [
              "0.0"
            ]
          },
          "metadata": {},
          "execution_count": 23
        }
      ]
    },
    {
      "cell_type": "markdown",
      "metadata": {
        "id": "GAniQkSiK1RT"
      },
      "source": [
        "Cosine Similarity"
      ]
    },
    {
      "cell_type": "code",
      "metadata": {
        "colab": {
          "base_uri": "https://localhost:8080/"
        },
        "id": "daQJikcLt7QU",
        "outputId": "08b1cadb-6d8c-4de9-c808-373c26eabac1"
      },
      "source": [
        "cosine_distance = distance.cosine(np.array(sentence_1[5].embedding), \n",
        "                               np.array(sentence_2[5].embedding))\n",
        "cosine_distance"
      ],
      "execution_count": 24,
      "outputs": [
        {
          "output_type": "execute_result",
          "data": {
            "text/plain": [
              "0.0"
            ]
          },
          "metadata": {},
          "execution_count": 24
        }
      ]
    },
    {
      "cell_type": "markdown",
      "metadata": {
        "id": "22tWTfLXGw2M"
      },
      "source": [
        "# **BERT**"
      ]
    },
    {
      "cell_type": "markdown",
      "metadata": {
        "id": "dDVSFDvkK-Y3"
      },
      "source": [
        "Configure Word Embeddings + Input Sentences"
      ]
    },
    {
      "cell_type": "code",
      "metadata": {
        "id": "EYWyAcs9G2l-"
      },
      "source": [
        "bert_embedding = TransformerWordEmbeddings('bert-base-multilingual-cased')"
      ],
      "execution_count": null,
      "outputs": []
    },
    {
      "cell_type": "code",
      "metadata": {
        "id": "b9_U1TsVrc2x"
      },
      "source": [
        "sentence_3 = Sentence('I need to clean my windows.')\n",
        "bert_embedding.embed(sentence_3)\n",
        "\n",
        "sentence_4 = Sentence('I need to update my Windows.')\n",
        "bert_embedding.embed(sentence_4)"
      ],
      "execution_count": null,
      "outputs": []
    },
    {
      "cell_type": "markdown",
      "metadata": {
        "id": "Pr8-3xrFO3AV"
      },
      "source": [
        "Euclidean Distance"
      ]
    },
    {
      "cell_type": "code",
      "metadata": {
        "colab": {
          "base_uri": "https://localhost:8080/"
        },
        "id": "va9rjL-aHRpM",
        "outputId": "40b1b420-fbfa-4521-8868-4d1f4d30a538"
      },
      "source": [
        "bert_euclidean = distance.euclidean(np.array(sentence_3[5].embedding), \n",
        "                               np.array(sentence_4[5].embedding))\n",
        "bert_euclidean"
      ],
      "execution_count": 21,
      "outputs": [
        {
          "output_type": "execute_result",
          "data": {
            "text/plain": [
              "15.303014755249023"
            ]
          },
          "metadata": {},
          "execution_count": 21
        }
      ]
    },
    {
      "cell_type": "markdown",
      "metadata": {
        "id": "EiVzUzRuO4bA"
      },
      "source": [
        "Cosine Similarity"
      ]
    },
    {
      "cell_type": "code",
      "metadata": {
        "colab": {
          "base_uri": "https://localhost:8080/"
        },
        "id": "bbxq7MTgHUeJ",
        "outputId": "2db8943d-17c7-476e-afbc-5f8750fba923"
      },
      "source": [
        "bert_cosine = distance.cosine(np.array(sentence_3[5].embedding), \n",
        "                               np.array(sentence_4[5].embedding))\n",
        "bert_cosine"
      ],
      "execution_count": 22,
      "outputs": [
        {
          "output_type": "execute_result",
          "data": {
            "text/plain": [
              "0.32886677980422974"
            ]
          },
          "metadata": {},
          "execution_count": 22
        }
      ]
    }
  ]
}